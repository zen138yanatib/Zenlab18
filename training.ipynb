{
  "nbformat": 4,
  "nbformat_minor": 0,
  "metadata": {
    "colab": {
      "provenance": [],
      "mount_file_id": "1S_qoDdtKo-_8xBzHqVDeq7k3fuANvl9H",
      "authorship_tag": "ABX9TyNLG4OhOEukBU18x0vAM+F6",
      "include_colab_link": true
    },
    "kernelspec": {
      "name": "python3",
      "display_name": "Python 3"
    },
    "language_info": {
      "name": "python"
    }
  },
  "cells": [
    {
      "cell_type": "markdown",
      "metadata": {
        "id": "view-in-github",
        "colab_type": "text"
      },
      "source": [
        "<a href=\"https://colab.research.google.com/github/zen138yanatib/Zenlab18/blob/master/training.ipynb\" target=\"_parent\"><img src=\"https://colab.research.google.com/assets/colab-badge.svg\" alt=\"Open In Colab\"/></a>"
      ]
    },
    {
      "cell_type": "code",
      "execution_count": null,
      "metadata": {
        "colab": {
          "base_uri": "https://localhost:8080/"
        },
        "id": "KsET7hYt4Ari",
        "outputId": "3855c943-6ffe-42a9-99c1-fc018aa40fcd"
      },
      "outputs": [
        {
          "output_type": "stream",
          "name": "stdout",
          "text": [
            "Drive already mounted at /content/drive; to attempt to forcibly remount, call drive.mount(\"/content/drive\", force_remount=True).\n"
          ]
        }
      ],
      "source": [
        "from google.colab import drive\n",
        "drive.mount('/content/drive')"
      ]
    },
    {
      "cell_type": "code",
      "source": [
        "from keras.models import Model, load_model\n",
        "from keras.layers import Input, Conv2D, MaxPool2D, Dense, Flatten,  BatchNormalization, Dropout  \n",
        "from keras.preprocessing.image import ImageDataGenerator\n",
        "from keras.callbacks import Callback, ModelCheckpoint, EarlyStopping\n",
        "from sklearn.metrics import confusion_matrix\n",
        "import cv2\n",
        "import numpy as np\n",
        "import tensorflow as tf\n",
        "import matplotlib.pyplot as plt"
      ],
      "metadata": {
        "id": "S4Cb1SNG5xqX"
      },
      "execution_count": null,
      "outputs": []
    },
    {
      "cell_type": "code",
      "source": [
        "!pip install split-folders\n",
        "import splitfolders\n",
        "import random\n",
        "import sys "
      ],
      "metadata": {
        "colab": {
          "base_uri": "https://localhost:8080/"
        },
        "id": "-wzvlf7T54MP",
        "outputId": "91bcca03-672d-4d2e-8360-5624b6abaee0"
      },
      "execution_count": null,
      "outputs": [
        {
          "output_type": "stream",
          "name": "stdout",
          "text": [
            "Looking in indexes: https://pypi.org/simple, https://us-python.pkg.dev/colab-wheels/public/simple/\n",
            "Collecting split-folders\n",
            "  Downloading split_folders-0.5.1-py3-none-any.whl (8.4 kB)\n",
            "Installing collected packages: split-folders\n",
            "Successfully installed split-folders-0.5.1\n"
          ]
        }
      ]
    },
    {
      "cell_type": "markdown",
      "source": [
        "Data"
      ],
      "metadata": {
        "id": "E3s1RIcc6D0_"
      }
    },
    {
      "cell_type": "code",
      "source": [
        "IM_SIZE = 256   \n",
        "BATCH_SIZE = 40  "
      ],
      "metadata": {
        "id": "5gHQqdjG6Gzn"
      },
      "execution_count": 5,
      "outputs": []
    },
    {
      "cell_type": "code",
      "source": [
        "seed = random.randint(0 , sys.maxsize) \n",
        "input_folder = \"/content/drive/MyDrive/dataset/Dataset\"  \n",
        "output = \"splitted-dataset-food/\" \n",
        "splitfolders.ratio(input_folder, output=output, seed=seed, ratio=(.8, .1, .1))"
      ],
      "metadata": {
        "colab": {
          "base_uri": "https://localhost:8080/"
        },
        "id": "ctJ7udZc6jxG",
        "outputId": "526614dc-4df8-4251-95f0-8518fa8238b1"
      },
      "execution_count": 8,
      "outputs": [
        {
          "output_type": "stream",
          "name": "stderr",
          "text": [
            "Copying files: 28 files [00:14,  1.97 files/s]\n"
          ]
        }
      ]
    },
    {
      "cell_type": "code",
      "source": [
        "datagen = ImageDataGenerator(rescale=1./255,\n",
        "                      brightness_range=[0.9,1.1],\n",
        "                      width_shift_range=0.1,\n",
        "                      height_shift_range=0.2,\n",
        "                      zoom_range=0.3,\n",
        "                      fill_mode='nearest')\n",
        "\n",
        "\n",
        "train_generator = datagen.flow_from_directory(  \n",
        "    '/content/splitted-dataset-food/train',  \n",
        "    shuffle=True,\n",
        "    target_size=(IM_SIZE,IM_SIZE),\n",
        "    batch_size=BATCH_SIZE, \n",
        "    color_mode = 'rgb',\n",
        "    class_mode='categorical')\n",
        "\n",
        "validation_generator = datagen.flow_from_directory( \n",
        "    '/content/splitted-dataset-food/val',\n",
        "    shuffle=False,\n",
        "    target_size=(IM_SIZE,IM_SIZE),\n",
        "    batch_size=BATCH_SIZE,\n",
        "    color_mode='rgb',\n",
        "    class_mode='categorical')\n",
        "\n",
        "test_generator = datagen.flow_from_directory( \n",
        "    '/content/splitted-dataset-food/test',  \n",
        "    shuffle=False,\n",
        "    target_size=(IM_SIZE,IM_SIZE),\n",
        "    batch_size=BATCH_SIZE,  \n",
        "    color_mode='rgb',\n",
        "    class_mode='categorical')"
      ],
      "metadata": {
        "colab": {
          "base_uri": "https://localhost:8080/"
        },
        "id": "fbteLcnKHmI2",
        "outputId": "5699733f-7f80-412a-9ba0-fb8b1de768ef"
      },
      "execution_count": 9,
      "outputs": [
        {
          "output_type": "stream",
          "name": "stdout",
          "text": [
            "Found 22 images belonging to 4 classes.\n",
            "Found 2 images belonging to 4 classes.\n",
            "Found 4 images belonging to 4 classes.\n"
          ]
        }
      ]
    },
    {
      "cell_type": "markdown",
      "source": [
        "Model from scratch"
      ],
      "metadata": {
        "id": "6ALfDXAIKDdl"
      }
    },
    {
      "cell_type": "code",
      "source": [
        "input = Input(shape = (IM_SIZE,IM_SIZE,3))  \n",
        "\n",
        "conv = Conv2D(128,3,activation='relu')(input)\n",
        "pool = MaxPool2D()(conv)\n",
        "conv = Conv2D(128,3,activation='relu')(pool)\n",
        "conv = Conv2D(128,3,activation='relu')(conv)\n",
        "pool = MaxPool2D()(conv)\n",
        "dense = Dropout(0.3)(pool)\n",
        "conv = Conv2D(256,3,activation='relu')(dense)\n",
        "conv = Conv2D(256,3,activation='relu')(conv)\n",
        "pool = MaxPool2D()(conv)\n",
        "dense = Dropout(0.3)(pool)\n",
        "conv = Conv2D(256,3,activation='relu')(dense)\n",
        "pool = MaxPool2D()(conv)\n",
        "dense = Dropout(0.3)(pool)\n",
        "conv = Conv2D(256,3,activation='relu')(dense)\n",
        "pool = MaxPool2D()(conv)\n",
        "flat = Flatten()(pool)\n",
        "dense = Dense(256,activation='relu')(flat)\n",
        "dense = Dropout(0.5)(dense)\n",
        "dense = Dense(128, activation='relu')(dense)\n",
        "dense = Dropout(0.2)(dense)\n",
        "output = Dense(4, activation='softmax')(dense)   \n",
        "model = Model(inputs=input, outputs=output)   \n",
        "\n",
        "optimizer = tf.keras.optimizers.Adam(learning_rate=0.0001) \n",
        "model.compile(optimizer=optimizer, \n",
        "              loss='categorical_crossentropy',\n",
        "              metrics=['accuracy'])\n",
        "\n",
        "model.summary()"
      ],
      "metadata": {
        "colab": {
          "base_uri": "https://localhost:8080/"
        },
        "id": "QGml6A9NKF7A",
        "outputId": "2b02cdf3-32ce-479e-c64b-284f33c87480"
      },
      "execution_count": 10,
      "outputs": [
        {
          "output_type": "stream",
          "name": "stdout",
          "text": [
            "Model: \"model\"\n",
            "_________________________________________________________________\n",
            " Layer (type)                Output Shape              Param #   \n",
            "=================================================================\n",
            " input_1 (InputLayer)        [(None, 256, 256, 3)]     0         \n",
            "                                                                 \n",
            " conv2d (Conv2D)             (None, 254, 254, 128)     3584      \n",
            "                                                                 \n",
            " max_pooling2d (MaxPooling2D  (None, 127, 127, 128)    0         \n",
            " )                                                               \n",
            "                                                                 \n",
            " conv2d_1 (Conv2D)           (None, 125, 125, 128)     147584    \n",
            "                                                                 \n",
            " conv2d_2 (Conv2D)           (None, 123, 123, 128)     147584    \n",
            "                                                                 \n",
            " max_pooling2d_1 (MaxPooling  (None, 61, 61, 128)      0         \n",
            " 2D)                                                             \n",
            "                                                                 \n",
            " dropout (Dropout)           (None, 61, 61, 128)       0         \n",
            "                                                                 \n",
            " conv2d_3 (Conv2D)           (None, 59, 59, 256)       295168    \n",
            "                                                                 \n",
            " conv2d_4 (Conv2D)           (None, 57, 57, 256)       590080    \n",
            "                                                                 \n",
            " max_pooling2d_2 (MaxPooling  (None, 28, 28, 256)      0         \n",
            " 2D)                                                             \n",
            "                                                                 \n",
            " dropout_1 (Dropout)         (None, 28, 28, 256)       0         \n",
            "                                                                 \n",
            " conv2d_5 (Conv2D)           (None, 26, 26, 256)       590080    \n",
            "                                                                 \n",
            " max_pooling2d_3 (MaxPooling  (None, 13, 13, 256)      0         \n",
            " 2D)                                                             \n",
            "                                                                 \n",
            " dropout_2 (Dropout)         (None, 13, 13, 256)       0         \n",
            "                                                                 \n",
            " conv2d_6 (Conv2D)           (None, 11, 11, 256)       590080    \n",
            "                                                                 \n",
            " max_pooling2d_4 (MaxPooling  (None, 5, 5, 256)        0         \n",
            " 2D)                                                             \n",
            "                                                                 \n",
            " flatten (Flatten)           (None, 6400)              0         \n",
            "                                                                 \n",
            " dense (Dense)               (None, 256)               1638656   \n",
            "                                                                 \n",
            " dropout_3 (Dropout)         (None, 256)               0         \n",
            "                                                                 \n",
            " dense_1 (Dense)             (None, 128)               32896     \n",
            "                                                                 \n",
            " dropout_4 (Dropout)         (None, 128)               0         \n",
            "                                                                 \n",
            " dense_2 (Dense)             (None, 4)                 516       \n",
            "                                                                 \n",
            "=================================================================\n",
            "Total params: 4,036,228\n",
            "Trainable params: 4,036,228\n",
            "Non-trainable params: 0\n",
            "_________________________________________________________________\n"
          ]
        }
      ]
    },
    {
      "cell_type": "markdown",
      "source": [
        "Training model"
      ],
      "metadata": {
        "id": "kfqsv3NXKXfP"
      }
    },
    {
      "cell_type": "code",
      "source": [
        "checkpoint = ModelCheckpoint('model-v2.h5', verbose=1, monitor='val_accuracy',save_best_only=True, mode='max') \n",
        "\n",
        "\n",
        "h = model.fit_generator(\n",
        "    train_generator,\n",
        "    epochs=50, \n",
        "    steps_per_epoch=len(train_generator),\n",
        "    validation_data=validation_generator,   \n",
        "    validation_steps=len(validation_generator),\n",
        "    callbacks=[checkpoint])\n",
        "\n",
        "#graph\n",
        "plt.plot(h.history['accuracy'], label='accuracy')\n",
        "plt.plot(h.history['val_accuracy'], label='val_accuracy')\n",
        "plt.legend(['train','val'])\n",
        "plt.show()"
      ],
      "metadata": {
        "colab": {
          "base_uri": "https://localhost:8080/",
          "height": 1000
        },
        "id": "e980vC-_KgFT",
        "outputId": "fb79f838-ea7c-4671-d4ff-dcff478b8a71"
      },
      "execution_count": 11,
      "outputs": [
        {
          "output_type": "stream",
          "name": "stderr",
          "text": [
            "<ipython-input-11-7a46c96927e7>:4: UserWarning: `Model.fit_generator` is deprecated and will be removed in a future version. Please use `Model.fit`, which supports generators.\n",
            "  h = model.fit_generator(\n"
          ]
        },
        {
          "output_type": "stream",
          "name": "stdout",
          "text": [
            "Epoch 1/50\n",
            "1/1 [==============================] - ETA: 0s - loss: 1.4931 - accuracy: 0.0000e+00\n",
            "Epoch 1: val_accuracy improved from -inf to 0.00000, saving model to model-v2.h5\n",
            "1/1 [==============================] - 35s 35s/step - loss: 1.4931 - accuracy: 0.0000e+00 - val_loss: 1.4000 - val_accuracy: 0.0000e+00\n",
            "Epoch 2/50\n",
            "1/1 [==============================] - ETA: 0s - loss: 1.4762 - accuracy: 0.0000e+00\n",
            "Epoch 2: val_accuracy did not improve from 0.00000\n",
            "1/1 [==============================] - 31s 31s/step - loss: 1.4762 - accuracy: 0.0000e+00 - val_loss: 1.3933 - val_accuracy: 0.0000e+00\n",
            "Epoch 3/50\n",
            "1/1 [==============================] - ETA: 0s - loss: 1.4457 - accuracy: 0.0455\n",
            "Epoch 3: val_accuracy did not improve from 0.00000\n",
            "1/1 [==============================] - 31s 31s/step - loss: 1.4457 - accuracy: 0.0455 - val_loss: 1.3862 - val_accuracy: 0.0000e+00\n",
            "Epoch 4/50\n",
            "1/1 [==============================] - ETA: 0s - loss: 1.4495 - accuracy: 0.0909\n",
            "Epoch 4: val_accuracy did not improve from 0.00000\n",
            "1/1 [==============================] - 30s 30s/step - loss: 1.4495 - accuracy: 0.0909 - val_loss: 1.3812 - val_accuracy: 0.0000e+00\n",
            "Epoch 5/50\n",
            "1/1 [==============================] - ETA: 0s - loss: 1.3999 - accuracy: 0.1364\n",
            "Epoch 5: val_accuracy improved from 0.00000 to 1.00000, saving model to model-v2.h5\n",
            "1/1 [==============================] - 31s 31s/step - loss: 1.3999 - accuracy: 0.1364 - val_loss: 1.3770 - val_accuracy: 1.0000\n",
            "Epoch 6/50\n",
            "1/1 [==============================] - ETA: 0s - loss: 1.3792 - accuracy: 0.1818\n",
            "Epoch 6: val_accuracy did not improve from 1.00000\n",
            "1/1 [==============================] - 31s 31s/step - loss: 1.3792 - accuracy: 0.1818 - val_loss: 1.3708 - val_accuracy: 1.0000\n",
            "Epoch 7/50\n",
            "1/1 [==============================] - ETA: 0s - loss: 1.3898 - accuracy: 0.2273\n",
            "Epoch 7: val_accuracy did not improve from 1.00000\n",
            "1/1 [==============================] - 30s 30s/step - loss: 1.3898 - accuracy: 0.2273 - val_loss: 1.3679 - val_accuracy: 1.0000\n",
            "Epoch 8/50\n",
            "1/1 [==============================] - ETA: 0s - loss: 1.3799 - accuracy: 0.2727\n",
            "Epoch 8: val_accuracy did not improve from 1.00000\n",
            "1/1 [==============================] - 36s 36s/step - loss: 1.3799 - accuracy: 0.2727 - val_loss: 1.3612 - val_accuracy: 1.0000\n",
            "Epoch 9/50\n",
            "1/1 [==============================] - ETA: 0s - loss: 1.3396 - accuracy: 0.5909\n",
            "Epoch 9: val_accuracy did not improve from 1.00000\n",
            "1/1 [==============================] - 31s 31s/step - loss: 1.3396 - accuracy: 0.5909 - val_loss: 1.3552 - val_accuracy: 1.0000\n",
            "Epoch 10/50\n",
            "1/1 [==============================] - ETA: 0s - loss: 1.3159 - accuracy: 0.5909\n",
            "Epoch 10: val_accuracy did not improve from 1.00000\n",
            "1/1 [==============================] - 30s 30s/step - loss: 1.3159 - accuracy: 0.5909 - val_loss: 1.3506 - val_accuracy: 1.0000\n",
            "Epoch 11/50\n",
            "1/1 [==============================] - ETA: 0s - loss: 1.3329 - accuracy: 0.5909\n",
            "Epoch 11: val_accuracy did not improve from 1.00000\n",
            "1/1 [==============================] - 30s 30s/step - loss: 1.3329 - accuracy: 0.5909 - val_loss: 1.3460 - val_accuracy: 1.0000\n",
            "Epoch 12/50\n",
            "1/1 [==============================] - ETA: 0s - loss: 1.3189 - accuracy: 0.6818\n",
            "Epoch 12: val_accuracy did not improve from 1.00000\n",
            "1/1 [==============================] - 30s 30s/step - loss: 1.3189 - accuracy: 0.6818 - val_loss: 1.3409 - val_accuracy: 1.0000\n",
            "Epoch 13/50\n",
            "1/1 [==============================] - ETA: 0s - loss: 1.2725 - accuracy: 0.7727\n",
            "Epoch 13: val_accuracy did not improve from 1.00000\n",
            "1/1 [==============================] - 30s 30s/step - loss: 1.2725 - accuracy: 0.7727 - val_loss: 1.3381 - val_accuracy: 1.0000\n",
            "Epoch 14/50\n",
            "1/1 [==============================] - ETA: 0s - loss: 1.2569 - accuracy: 0.8182\n",
            "Epoch 14: val_accuracy did not improve from 1.00000\n",
            "1/1 [==============================] - 31s 31s/step - loss: 1.2569 - accuracy: 0.8182 - val_loss: 1.3295 - val_accuracy: 1.0000\n",
            "Epoch 15/50\n",
            "1/1 [==============================] - ETA: 0s - loss: 1.2722 - accuracy: 0.8182\n",
            "Epoch 15: val_accuracy did not improve from 1.00000\n",
            "1/1 [==============================] - 30s 30s/step - loss: 1.2722 - accuracy: 0.8182 - val_loss: 1.3230 - val_accuracy: 1.0000\n",
            "Epoch 16/50\n",
            "1/1 [==============================] - ETA: 0s - loss: 1.2510 - accuracy: 0.7273\n",
            "Epoch 16: val_accuracy did not improve from 1.00000\n",
            "1/1 [==============================] - 30s 30s/step - loss: 1.2510 - accuracy: 0.7273 - val_loss: 1.3228 - val_accuracy: 1.0000\n",
            "Epoch 17/50\n",
            "1/1 [==============================] - ETA: 0s - loss: 1.2016 - accuracy: 0.9091\n",
            "Epoch 17: val_accuracy did not improve from 1.00000\n",
            "1/1 [==============================] - 30s 30s/step - loss: 1.2016 - accuracy: 0.9091 - val_loss: 1.3084 - val_accuracy: 1.0000\n",
            "Epoch 18/50\n",
            "\n",
            "Epoch 18: val_accuracy did not improve from 1.00000\n",
            "1/1 [==============================] - 30s 30s/step - loss: 1.2303 - accuracy: 0.8636 - val_loss: 1.3070 - val_accuracy: 1.0000\n",
            "Epoch 19/50\n",
            "1/1 [==============================] - ETA: 0s - loss: 1.2200 - accuracy: 0.9091\n",
            "Epoch 19: val_accuracy did not improve from 1.00000\n",
            "1/1 [==============================] - 30s 30s/step - loss: 1.2200 - accuracy: 0.9091 - val_loss: 1.2894 - val_accuracy: 1.0000\n",
            "Epoch 20/50\n",
            "1/1 [==============================] - ETA: 0s - loss: 1.1808 - accuracy: 0.8636\n",
            "Epoch 20: val_accuracy did not improve from 1.00000\n",
            "1/1 [==============================] - 31s 31s/step - loss: 1.1808 - accuracy: 0.8636 - val_loss: 1.2960 - val_accuracy: 1.0000\n",
            "Epoch 21/50\n",
            "1/1 [==============================] - ETA: 0s - loss: 1.1606 - accuracy: 0.9091\n",
            "Epoch 21: val_accuracy did not improve from 1.00000\n",
            "1/1 [==============================] - 31s 31s/step - loss: 1.1606 - accuracy: 0.9091 - val_loss: 1.2790 - val_accuracy: 1.0000\n",
            "Epoch 22/50\n",
            "1/1 [==============================] - ETA: 0s - loss: 1.1471 - accuracy: 0.9091\n",
            "Epoch 22: val_accuracy did not improve from 1.00000\n",
            "1/1 [==============================] - 30s 30s/step - loss: 1.1471 - accuracy: 0.9091 - val_loss: 1.2653 - val_accuracy: 1.0000\n",
            "Epoch 23/50\n",
            "1/1 [==============================] - ETA: 0s - loss: 1.1243 - accuracy: 0.9091\n",
            "Epoch 23: val_accuracy did not improve from 1.00000\n",
            "1/1 [==============================] - 30s 30s/step - loss: 1.1243 - accuracy: 0.9091 - val_loss: 1.2614 - val_accuracy: 1.0000\n",
            "Epoch 24/50\n",
            "1/1 [==============================] - ETA: 0s - loss: 1.1341 - accuracy: 0.9091\n",
            "Epoch 24: val_accuracy did not improve from 1.00000\n",
            "1/1 [==============================] - 30s 30s/step - loss: 1.1341 - accuracy: 0.9091 - val_loss: 1.2455 - val_accuracy: 1.0000\n",
            "Epoch 25/50\n",
            "1/1 [==============================] - ETA: 0s - loss: 1.0313 - accuracy: 0.9091\n",
            "Epoch 25: val_accuracy did not improve from 1.00000\n",
            "1/1 [==============================] - 36s 36s/step - loss: 1.0313 - accuracy: 0.9091 - val_loss: 1.2448 - val_accuracy: 1.0000\n",
            "Epoch 26/50\n",
            "1/1 [==============================] - ETA: 0s - loss: 1.0223 - accuracy: 0.9091\n",
            "Epoch 26: val_accuracy did not improve from 1.00000\n",
            "1/1 [==============================] - 30s 30s/step - loss: 1.0223 - accuracy: 0.9091 - val_loss: 1.2300 - val_accuracy: 1.0000\n",
            "Epoch 27/50\n",
            "1/1 [==============================] - ETA: 0s - loss: 1.0355 - accuracy: 0.9091\n",
            "Epoch 27: val_accuracy did not improve from 1.00000\n",
            "1/1 [==============================] - 30s 30s/step - loss: 1.0355 - accuracy: 0.9091 - val_loss: 1.2155 - val_accuracy: 1.0000\n",
            "Epoch 28/50\n",
            "1/1 [==============================] - ETA: 0s - loss: 0.9927 - accuracy: 0.9091\n",
            "Epoch 28: val_accuracy did not improve from 1.00000\n",
            "1/1 [==============================] - 30s 30s/step - loss: 0.9927 - accuracy: 0.9091 - val_loss: 1.1770 - val_accuracy: 1.0000\n",
            "Epoch 29/50\n",
            "1/1 [==============================] - ETA: 0s - loss: 1.0104 - accuracy: 0.9091\n",
            "Epoch 29: val_accuracy did not improve from 1.00000\n",
            "1/1 [==============================] - 31s 31s/step - loss: 1.0104 - accuracy: 0.9091 - val_loss: 1.1779 - val_accuracy: 1.0000\n",
            "Epoch 30/50\n",
            "1/1 [==============================] - ETA: 0s - loss: 0.9507 - accuracy: 0.9091\n",
            "Epoch 30: val_accuracy did not improve from 1.00000\n",
            "1/1 [==============================] - 31s 31s/step - loss: 0.9507 - accuracy: 0.9091 - val_loss: 1.1758 - val_accuracy: 1.0000\n",
            "Epoch 31/50\n",
            "1/1 [==============================] - ETA: 0s - loss: 0.8753 - accuracy: 0.9091\n",
            "Epoch 31: val_accuracy did not improve from 1.00000\n",
            "1/1 [==============================] - 31s 31s/step - loss: 0.8753 - accuracy: 0.9091 - val_loss: 1.1294 - val_accuracy: 1.0000\n",
            "Epoch 32/50\n",
            "1/1 [==============================] - ETA: 0s - loss: 0.9097 - accuracy: 0.9091\n",
            "Epoch 32: val_accuracy did not improve from 1.00000\n",
            "1/1 [==============================] - 30s 30s/step - loss: 0.9097 - accuracy: 0.9091 - val_loss: 1.1272 - val_accuracy: 1.0000\n",
            "Epoch 33/50\n",
            "1/1 [==============================] - ETA: 0s - loss: 0.8659 - accuracy: 0.9091\n",
            "Epoch 33: val_accuracy did not improve from 1.00000\n",
            "1/1 [==============================] - 30s 30s/step - loss: 0.8659 - accuracy: 0.9091 - val_loss: 1.1106 - val_accuracy: 1.0000\n",
            "Epoch 34/50\n",
            "1/1 [==============================] - ETA: 0s - loss: 0.7953 - accuracy: 0.9091\n",
            "Epoch 34: val_accuracy did not improve from 1.00000\n",
            "1/1 [==============================] - 30s 30s/step - loss: 0.7953 - accuracy: 0.9091 - val_loss: 1.0688 - val_accuracy: 1.0000\n",
            "Epoch 35/50\n",
            "1/1 [==============================] - ETA: 0s - loss: 0.8221 - accuracy: 0.9091\n",
            "Epoch 35: val_accuracy did not improve from 1.00000\n",
            "1/1 [==============================] - 30s 30s/step - loss: 0.8221 - accuracy: 0.9091 - val_loss: 1.0389 - val_accuracy: 1.0000\n",
            "Epoch 36/50\n",
            "1/1 [==============================] - ETA: 0s - loss: 0.7727 - accuracy: 0.9091\n",
            "Epoch 36: val_accuracy did not improve from 1.00000\n",
            "1/1 [==============================] - 31s 31s/step - loss: 0.7727 - accuracy: 0.9091 - val_loss: 1.0311 - val_accuracy: 1.0000\n",
            "Epoch 37/50\n",
            "1/1 [==============================] - ETA: 0s - loss: 0.7668 - accuracy: 0.9091\n",
            "Epoch 37: val_accuracy did not improve from 1.00000\n",
            "1/1 [==============================] - 31s 31s/step - loss: 0.7668 - accuracy: 0.9091 - val_loss: 0.9728 - val_accuracy: 1.0000\n",
            "Epoch 38/50\n",
            "1/1 [==============================] - ETA: 0s - loss: 0.7689 - accuracy: 0.9091\n",
            "Epoch 38: val_accuracy did not improve from 1.00000\n",
            "1/1 [==============================] - 30s 30s/step - loss: 0.7689 - accuracy: 0.9091 - val_loss: 0.9547 - val_accuracy: 1.0000\n",
            "Epoch 39/50\n",
            "1/1 [==============================] - ETA: 0s - loss: 0.6597 - accuracy: 0.9091\n",
            "Epoch 39: val_accuracy did not improve from 1.00000\n",
            "1/1 [==============================] - 30s 30s/step - loss: 0.6597 - accuracy: 0.9091 - val_loss: 0.9302 - val_accuracy: 1.0000\n",
            "Epoch 40/50\n",
            "1/1 [==============================] - ETA: 0s - loss: 0.6710 - accuracy: 0.9091\n",
            "Epoch 40: val_accuracy did not improve from 1.00000\n",
            "1/1 [==============================] - 30s 30s/step - loss: 0.6710 - accuracy: 0.9091 - val_loss: 0.9145 - val_accuracy: 1.0000\n",
            "Epoch 41/50\n",
            "1/1 [==============================] - ETA: 0s - loss: 0.6149 - accuracy: 0.9091\n",
            "Epoch 41: val_accuracy did not improve from 1.00000\n",
            "1/1 [==============================] - 31s 31s/step - loss: 0.6149 - accuracy: 0.9091 - val_loss: 0.9149 - val_accuracy: 1.0000\n",
            "Epoch 42/50\n",
            "1/1 [==============================] - ETA: 0s - loss: 0.6718 - accuracy: 0.9091\n",
            "Epoch 42: val_accuracy did not improve from 1.00000\n",
            "1/1 [==============================] - 31s 31s/step - loss: 0.6718 - accuracy: 0.9091 - val_loss: 0.8583 - val_accuracy: 1.0000\n",
            "Epoch 43/50\n",
            "1/1 [==============================] - ETA: 0s - loss: 0.6402 - accuracy: 0.9091\n",
            "Epoch 43: val_accuracy did not improve from 1.00000\n",
            "1/1 [==============================] - 30s 30s/step - loss: 0.6402 - accuracy: 0.9091 - val_loss: 0.8121 - val_accuracy: 1.0000\n",
            "Epoch 44/50\n",
            "1/1 [==============================] - ETA: 0s - loss: 0.6488 - accuracy: 0.9091\n",
            "Epoch 44: val_accuracy did not improve from 1.00000\n",
            "1/1 [==============================] - 31s 31s/step - loss: 0.6488 - accuracy: 0.9091 - val_loss: 0.7442 - val_accuracy: 1.0000\n",
            "Epoch 45/50\n",
            "1/1 [==============================] - ETA: 0s - loss: 0.4856 - accuracy: 0.9091\n",
            "Epoch 45: val_accuracy did not improve from 1.00000\n",
            "1/1 [==============================] - 30s 30s/step - loss: 0.4856 - accuracy: 0.9091 - val_loss: 0.7437 - val_accuracy: 1.0000\n",
            "Epoch 46/50\n",
            "1/1 [==============================] - ETA: 0s - loss: 0.5336 - accuracy: 0.9091\n",
            "Epoch 46: val_accuracy did not improve from 1.00000\n",
            "1/1 [==============================] - 30s 30s/step - loss: 0.5336 - accuracy: 0.9091 - val_loss: 0.7357 - val_accuracy: 1.0000\n",
            "Epoch 47/50\n",
            "1/1 [==============================] - ETA: 0s - loss: 0.4289 - accuracy: 0.9091\n",
            "Epoch 47: val_accuracy did not improve from 1.00000\n",
            "1/1 [==============================] - 30s 30s/step - loss: 0.4289 - accuracy: 0.9091 - val_loss: 0.6974 - val_accuracy: 1.0000\n",
            "Epoch 48/50\n",
            "1/1 [==============================] - ETA: 0s - loss: 0.5611 - accuracy: 0.9091\n",
            "Epoch 48: val_accuracy did not improve from 1.00000\n",
            "1/1 [==============================] - 31s 31s/step - loss: 0.5611 - accuracy: 0.9091 - val_loss: 0.7111 - val_accuracy: 1.0000\n",
            "Epoch 49/50\n",
            "1/1 [==============================] - ETA: 0s - loss: 0.4385 - accuracy: 0.9091\n",
            "Epoch 49: val_accuracy did not improve from 1.00000\n",
            "1/1 [==============================] - 30s 30s/step - loss: 0.4385 - accuracy: 0.9091 - val_loss: 0.6575 - val_accuracy: 1.0000\n",
            "Epoch 50/50\n",
            "1/1 [==============================] - ETA: 0s - loss: 0.5149 - accuracy: 0.9091\n",
            "Epoch 50: val_accuracy did not improve from 1.00000\n",
            "1/1 [==============================] - 30s 30s/step - loss: 0.5149 - accuracy: 0.9091 - val_loss: 0.6160 - val_accuracy: 1.0000\n"
          ]
        },
        {
          "output_type": "display_data",
          "data": {
            "text/plain": [
              "<Figure size 640x480 with 1 Axes>"
            ],
            "image/png": "[encoded data removed]"
          },
          "metadata": {}
        }
      ]
    },
    {
      "cell_type": "code",
      "source": [
        "model = load_model('model-v2.h5')\n",
        "score = model.evaluate_generator(\n",
        "    test_generator,\n",
        "    steps=len(test_generator))\n",
        "print('score (cross_entropy, accuracy):\\n',score)"
      ],
      "metadata": {
        "colab": {
          "base_uri": "https://localhost:8080/"
        },
        "id": "zVKAfqZuSUQx",
        "outputId": "6f10500a-62de-4a34-adf9-664465216f27"
      },
      "execution_count": 14,
      "outputs": [
        {
          "output_type": "stream",
          "name": "stderr",
          "text": [
            "<ipython-input-14-c7335160e294>:2: UserWarning: `Model.evaluate_generator` is deprecated and will be removed in a future version. Please use `Model.evaluate`, which supports generators.\n",
            "  score = model.evaluate_generator(\n"
          ]
        },
        {
          "output_type": "stream",
          "name": "stdout",
          "text": [
            "score (cross_entropy, accuracy):\n",
            " [1.3835899829864502, 0.5]\n"
          ]
        }
      ]
    },
    {
      "cell_type": "markdown",
      "source": [
        "Read file"
      ],
      "metadata": {
        "id": "H1Y0F9IPUBuD"
      }
    },
    {
      "cell_type": "code",
      "source": [
        "IMAGE_SIZE = (IM_SIZE,IM_SIZE)  \n",
        "\n",
        "model = load_model('model-v2.h5') \n",
        "\n",
        "f = open(\"/content/drive/MyDrive/dataset/filelist.txt\", \"r\") \n",
        "file_data = f.read()\n",
        "all = file_data.splitlines()\n",
        "\n",
        "o = open('result.txt','w')  \n",
        "\n",
        "for i in all:\n",
        "  img = '/content/drive/MyDrive/dataset/filelist/'+i  \n",
        "  test_im = cv2.imread(img, cv2.IMREAD_COLOR)\n",
        "  test_im = cv2.cvtColor(test_im, cv2.COLOR_BGR2RGB)\n",
        "  test_im = cv2.resize(test_im, IMAGE_SIZE)\n",
        "  test_im = test_im / 255.\n",
        "  test_im = np.expand_dims(test_im, axis=0)\n",
        "  w_pred = model.predict(test_im)\n",
        "  predict_class_idx = np.argmax(w_pred,axis = -1)\n",
        "  mapping = dict((v,k) for k,v in test_generator.class_indices.items())\n",
        "  predict_class_name = [mapping[x] for x in predict_class_idx]\n",
        "  o.write(i+ \"::\"+ predict_class_name[0][0]+'\\n'  )  #write text in result.txt\n",
        "#   print(i+ \"::\"+ predict_class_name[0][0])\n",
        "\n",
        "o.close()"
      ],
      "metadata": {
        "colab": {
          "base_uri": "https://localhost:8080/",
          "height": 235
        },
        "id": "a2Z1Dq4mUFOE",
        "outputId": "069ef7df-5828-45fb-cf54-bdc8ea4e8d88"
      },
      "execution_count": 16,
      "outputs": [
        {
          "output_type": "error",
          "ename": "FileNotFoundError",
          "evalue": "ignored",
          "traceback": [
            "\u001b[0;31m---------------------------------------------------------------------------\u001b[0m",
            "\u001b[0;31mFileNotFoundError\u001b[0m                         Traceback (most recent call last)",
            "\u001b[0;32m<ipython-input-16-e8dbdbde03e7>\u001b[0m in \u001b[0;36m<cell line: 5>\u001b[0;34m()\u001b[0m\n\u001b[1;32m      3\u001b[0m \u001b[0mmodel\u001b[0m \u001b[0;34m=\u001b[0m \u001b[0mload_model\u001b[0m\u001b[0;34m(\u001b[0m\u001b[0;34m'model-v2.h5'\u001b[0m\u001b[0;34m)\u001b[0m\u001b[0;34m\u001b[0m\u001b[0;34m\u001b[0m\u001b[0m\n\u001b[1;32m      4\u001b[0m \u001b[0;34m\u001b[0m\u001b[0m\n\u001b[0;32m----> 5\u001b[0;31m \u001b[0mf\u001b[0m \u001b[0;34m=\u001b[0m \u001b[0mopen\u001b[0m\u001b[0;34m(\u001b[0m\u001b[0;34m\"/content/drive/MyDrive/dataset/filelist.txt\"\u001b[0m\u001b[0;34m,\u001b[0m \u001b[0;34m\"r\"\u001b[0m\u001b[0;34m)\u001b[0m\u001b[0;34m\u001b[0m\u001b[0;34m\u001b[0m\u001b[0m\n\u001b[0m\u001b[1;32m      6\u001b[0m \u001b[0mfile_data\u001b[0m \u001b[0;34m=\u001b[0m \u001b[0mf\u001b[0m\u001b[0;34m.\u001b[0m\u001b[0mread\u001b[0m\u001b[0;34m(\u001b[0m\u001b[0;34m)\u001b[0m\u001b[0;34m\u001b[0m\u001b[0;34m\u001b[0m\u001b[0m\n\u001b[1;32m      7\u001b[0m \u001b[0mall\u001b[0m \u001b[0;34m=\u001b[0m \u001b[0mfile_data\u001b[0m\u001b[0;34m.\u001b[0m\u001b[0msplitlines\u001b[0m\u001b[0;34m(\u001b[0m\u001b[0;34m)\u001b[0m\u001b[0;34m\u001b[0m\u001b[0;34m\u001b[0m\u001b[0m\n",
            "\u001b[0;31mFileNotFoundError\u001b[0m: [Errno 2] No such file or directory: '/content/drive/MyDrive/dataset/filelist.txt'"
          ]
        }
      ]
    }
  ]
}